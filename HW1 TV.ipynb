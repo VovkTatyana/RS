{
 "cells": [
  {
   "cell_type": "markdown",
   "id": "425a10d7-caa9-4f84-abff-f528aeb4ab80",
   "metadata": {
    "id": "425a10d7-caa9-4f84-abff-f528aeb4ab80"
   },
   "source": [
    "# Домашнее задание №1"
   ]
  },
  {
   "cell_type": "code",
   "execution_count": 1,
   "id": "6f4acf2d-e8a0-469a-8463-6dc26521c554",
   "metadata": {
    "id": "6f4acf2d-e8a0-469a-8463-6dc26521c554"
   },
   "outputs": [],
   "source": [
    "import numpy as np\n",
    "import pandas as pd"
   ]
  },
  {
   "cell_type": "markdown",
   "id": "38a80a25-4ea6-49c9-a0f4-c7fc2a80dcc1",
   "metadata": {
    "id": "38a80a25-4ea6-49c9-a0f4-c7fc2a80dcc1"
   },
   "source": [
    "## Задание 1. Реализовать метрики Recall@k и  Money Recall@k\n",
    "\n",
    "*Recall* - доля рекомендованных товаров среди релевантных = Какой % купленных товаров был среди рекомендованных\n",
    "\n",
    "$$\\Large Recall@K(i) = \\frac {\\sum_{j=1}^{K}\\mathbb{1}_{r_{ij}}}{|Rel_i|}$$\n",
    "\n",
    "$\\Large |Rel_i|$ -- количество релевантных товаров для пользователя $i$\n",
    "\n",
    "$$\\Large MoneyRecall@K(i) = \\frac {\\sum_{j=1}^{K}\\mathbb{1}_{r_{ij}}\\cdot Price(j)}{\\sum_{s\\in Rel_i}Price(s)}$$\n"
   ]
  },
  {
   "cell_type": "markdown",
   "id": "c9edf202",
   "metadata": {},
   "source": [
    "Recall - доля рекомендованных товаров среди релевантных = Какой % купленных товаров был среди рекомендованных\n",
    "Обычно используется для моделей пре-фильтрации товаров (убрать те товары, которые точно не будем рекомендовать)\n",
    "\n",
    "bought_list - купленные товары\n",
    "recommended_list - рекомендованные товары\n",
    "\n",
    "prices_recommended - цены рекомендованных товаров\n",
    "prices_bought - цены купленных товаров\n",
    "\n",
    "Если верить уроку, то в recall@k число k обычно достаточно большое (50-200), больше чем покупок у среднестатистического юзера, следовательно k=5 это выборка подходящая для Precision, но очень маленькая для Recall. "
   ]
  },
  {
   "cell_type": "code",
   "execution_count": 3,
   "id": "34a7db81-664c-4c9b-92c0-d565fa5487fc",
   "metadata": {
    "id": "34a7db81-664c-4c9b-92c0-d565fa5487fc"
   },
   "outputs": [],
   "source": [
    "def recall_at_k(recommended_list, bought_list, k=50):\n",
    "\n",
    "    bought_list = np.array(bought_list)\n",
    "    recommended_list = np.array(recommended_list)\n",
    "\n",
    "    bought_list = bought_list\n",
    "    recommended_list = recommended_list[:k]\n",
    "    \n",
    "    flags = np.isin(recommended_list, bought_list)\n",
    "    \n",
    "    recall = flags.sum() / len(bought_list)\n",
    "\n",
    "    return recall\n",
    "\n",
    "\n",
    "\n",
    "\n",
    "def money_recall_at_k(recommended_list, bought_list, prices_recommended, prices_bought, k=50):\n",
    "    bought_list = np.array(bought_list)\n",
    "    recommended_list = np.array(recommended_list)\n",
    "    prices_recommended = np.array(prices_recommended)\n",
    "    prices_bought = np.array(prices_bought)\n",
    "    \n",
    "    bought_list = bought_list\n",
    "    recommended_list = recommended_list[:k]\n",
    "    prices_recommended = prices_recommended[:k]\n",
    "    prices_bought = prices_bought\n",
    "\n",
    "    flags = np.isin(recommended_list, bought_list)\n",
    "    money_recall = (flags*prices_recommended).sum() / prices_bought.sum()\n",
    "     \n",
    "\n",
    "    return money_recall\n"
   ]
  },
  {
   "cell_type": "markdown",
   "id": "b42d4d0d-6073-47b6-ad54-586a477405e5",
   "metadata": {
    "id": "b42d4d0d-6073-47b6-ad54-586a477405e5"
   },
   "source": [
    "## Задание 2. Реализовать метрику MRR@k\n",
    "\n",
    "Mean Reciprocal Rank\n",
    "\n",
    "- Считаем для первых k рекоммендаций\n",
    "- Найти ранк первого релевантного предсказания $\\Large rank_j$\n",
    "- Посчитать reciprocal rank = $\\Large\\frac{1}{rank_j}$\n",
    "\n",
    "$$\\Large  MMR(i)@k=\\frac {1}{\\min\\limits_{j\\in Rel(i)} rank_j}$$"
   ]
  },
  {
   "cell_type": "markdown",
   "id": "54044816",
   "metadata": {},
   "source": [
    "**Mean Reciprocal Rank или MRR измеряет, насколько низко в рейтинге находится первый релевантный документ/вещь и т.д. Если MRR близок к 1, это означает, что релевантные результаты находятся в верхней части результатов поиска. Более низкий MRR указывает на более низкое качество поиска, а правильный ответ располагается ниже в результатах поиска.**"
   ]
  },
  {
   "cell_type": "code",
   "execution_count": 4,
   "id": "9c8940da-3621-4a54-8236-810a42ed4b77",
   "metadata": {
    "id": "9c8940da-3621-4a54-8236-810a42ed4b77"
   },
   "outputs": [],
   "source": [
    "def mrr_at_k(recommended_list, bought_list, k=5):\n",
    "    bought_list = np.array(bought_list)\n",
    "    recommended_list = np.array(recommended_list)\n",
    "    \n",
    "    bought_list = bought_list\n",
    "    recommended_list = recommended_list[:k]\n",
    "    \n",
    "    # Создаем список рангов\n",
    "    rankings = np.where(recommended_list == bought_list.reshape(-1, 1))[1] + 1\n",
    "    \n",
    "    # Проверяем, если ранги не найдены, возвращаем 0\n",
    "    if len(rankings) == 0:\n",
    "        return 0\n",
    "    \n",
    "    # Находим минимальный ранг\n",
    "    min_rank = np.min(rankings)\n",
    "    \n",
    "    # Считаем обратный ранг в первом найденном элементе\n",
    "    reciprocal_rank = 1 / min_rank\n",
    "    \n",
    "    # Возвращаем !средний! обратный ранг\n",
    "    return reciprocal_rank"
   ]
  },
  {
   "cell_type": "markdown",
   "id": "1c3008cc-fd9e-44c6-8913-43d71ffb9cd7",
   "metadata": {
    "id": "1c3008cc-fd9e-44c6-8913-43d71ffb9cd7"
   },
   "source": [
    "## Задание 3*. Реализовать метрику nDCG@k\n",
    "Normalized discounted cumulative gain. Эту метрику реализовать будет немного сложнее.\n",
    "\n",
    "$$\\Large DCG@K(i) = \\sum_{j=1}^{K}\\frac{\\mathbb{1}_{r_{ij}}}{\\log_2 (j+1)}$$\n",
    "\n",
    "\n",
    "$\\Large \\mathbb{1}_{r_{ij}}$ -- индикаторная функция показывает что пользователь $i$ провзаимодействовал с продуктом $j$\n",
    "\n",
    "Для подсчета $nDCG$ нам необходимо найти максимально возможный $DCG$ для пользователя $i$  и рекомендаций длины $K$.\n",
    "Максимальный $DCG$ достигается когда мы порекомендовали максимально возможное количество релевантных продуктов и все они в начале списка рекомендаций.\n",
    "\n",
    "$$\\Large IDCG@K(i) = max(DCG@K(i)) = \\sum_{j=1}^{K}\\frac{\\mathbb{1}_{j\\le|Rel_i|}}{\\log_2 (j+1)}$$\n",
    "\n",
    "$$\\Large nDCG@K(i) = \\frac {DCG@K(i)}{IDCG@K(i)}$$\n",
    "\n",
    "$\\Large |Rel_i|$ -- количество релевантных продуктов для пользователя $i$\n",
    "\n"
   ]
  },
  {
   "cell_type": "code",
   "execution_count": 5,
   "id": "67d7e53c-dfd8-4423-a107-f85880a45c7e",
   "metadata": {
    "id": "67d7e53c-dfd8-4423-a107-f85880a45c7e"
   },
   "outputs": [],
   "source": [
    "def ndcg_at_k(recommended_list, bought_list, k=5):\n",
    "    bought_list = np.array(bought_list)\n",
    "    recommended_list = np.array(recommended_list)\n",
    "    \n",
    "    bought_list = bought_list\n",
    "    recommended_list = recommended_list[:k]\n",
    "    \n",
    "    \n",
    "    # Создаем список релевантности для рекомендованных элементов\n",
    "    relevance = np.isin(recommended_list, bought_list).astype(int)\n",
    "    \n",
    "    # Создаем список рангов\n",
    "    rankings = np.where(recommended_list == bought_list.reshape(-1, 1))[1] + 1\n",
    "    \n",
    "    # Вычисляем Discounted Cumulative Gain (DCG)\n",
    "    dcg = np.sum(relevance / np.log2(rankings + 1))\n",
    "    \n",
    "    # Сортируем список рекомендованных элементов по убыванию релевантности\n",
    "    sorted_relevance = np.sort(relevance)[::-1]\n",
    "    \n",
    "    # Вычисляем Ideal Discounted Cumulative Gain (IDCG)\n",
    "    idcg = np.sum(sorted_relevance / np.log2(np.arange(2, len(sorted_relevance) + 2)))\n",
    "    \n",
    "    # Вычисляем Normalized Discounted Cumulative Gain (NDCG)\n",
    "    ndcg = dcg / idcg if idcg > 0 else 0\n",
    "    \n",
    "    return ndcg\n"
   ]
  },
  {
   "cell_type": "code",
   "execution_count": null,
   "id": "a20cde64",
   "metadata": {},
   "outputs": [],
   "source": []
  }
 ],
 "metadata": {
  "colab": {
   "provenance": []
  },
  "kernelspec": {
   "display_name": "Python 3 (ipykernel)",
   "language": "python",
   "name": "python3"
  },
  "language_info": {
   "codemirror_mode": {
    "name": "ipython",
    "version": 3
   },
   "file_extension": ".py",
   "mimetype": "text/x-python",
   "name": "python",
   "nbconvert_exporter": "python",
   "pygments_lexer": "ipython3",
   "version": "3.9.13"
  }
 },
 "nbformat": 4,
 "nbformat_minor": 5
}
